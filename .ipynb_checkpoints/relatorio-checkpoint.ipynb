{
 "cells": [
  {
   "cell_type": "markdown",
   "metadata": {},
   "source": [
    "### Projeto de Análise de Dados I\n",
    "#### Atlas de Vulnerabilidade Social (AVS)\n",
    "> \"A plataforma oferece um panorama da vulnerabilidade e da exclusão social dos municípios e estados. Sua relevância vem justamente da capacidade de fornecer informações sobre a unidade político-administrativa mais próxima do cotidiano dos cidadãos, o município. Além disso, o AVS permite conhecer as desigualdades a nível intramunicipal das diversas espacialidades de uma mesma região metropolitana\"\n",
    "\n",
    "Os dados utilizados nesse estudo podem ser encontrados no link [Atlas de Vulnerabilidade Social](https://basedosdados.org/dataset/1dd6317a-8e79-4a67-bb78-bc5fef214b4d?table=8dce525d-07f9-4d52-8ea0-36fa288d7df8)"
   ]
  },
  {
   "cell_type": "code",
   "execution_count": 1,
   "metadata": {},
   "outputs": [],
   "source": [
    "import pandas as pd"
   ]
  },
  {
   "cell_type": "code",
   "execution_count": 2,
   "metadata": {},
   "outputs": [],
   "source": [
    "dados = pd.read_csv(\"../arquivo/Atlas_de_Vulnerabilidade_Social.csv\")"
   ]
  },
  {
   "cell_type": "code",
   "execution_count": 14,
   "metadata": {},
   "outputs": [],
   "source": [
    "dados_pb = dados[dados.sigla_uf == \"PB\"]"
   ]
  },
  {
   "cell_type": "code",
   "execution_count": 63,
   "metadata": {},
   "outputs": [],
   "source": [
    "dados_pb.to_csv(\"dados_pb.csv\", index= False)"
   ]
  },
  {
   "cell_type": "code",
   "execution_count": 17,
   "metadata": {},
   "outputs": [
    {
     "data": {
      "text/plain": [
       "<bound method DataFrame.info of          ano sigla_uf  id_municipio raca_cor    sexo localizacao    ivs  \\\n",
       "50276   2000       PB       2500205   branco   total       total  0.588   \n",
       "50277   2000       PB       2500304   branco   total       total  0.618   \n",
       "50278   2000       PB       2500403   branco   total       total  0.531   \n",
       "50279   2000       PB       2500502   branco   total       total  0.573   \n",
       "50280   2000       PB       2500536   branco   total       total  0.635   \n",
       "...      ...      ...           ...      ...     ...         ...    ...   \n",
       "318053  2000       PB       2514552   branco   homem      urbano    NaN   \n",
       "318054  2000       PB       2501807    total   homem       rural    NaN   \n",
       "318055  2000       PB       2501807    negro   homem       rural    NaN   \n",
       "318056  2000       PB       2501807   branco  mulher       rural    NaN   \n",
       "318057  2000       PB       2514552   branco  mulher      urbano    NaN   \n",
       "\n",
       "        ivs_infraestrutura_urbana  ivs_capital_humano  ivs_renda_trabalho  \\\n",
       "50276                       0.303               0.657               0.803   \n",
       "50277                       0.431               0.758               0.665   \n",
       "50278                       0.217               0.673               0.703   \n",
       "50279                       0.400               0.574               0.746   \n",
       "50280                       0.416               0.756               0.734   \n",
       "...                           ...                 ...                 ...   \n",
       "318053                      0.000                 NaN                 NaN   \n",
       "318054                        NaN                 NaN               0.597   \n",
       "318055                        NaN                 NaN               0.597   \n",
       "318056                        NaN                 NaN                 NaN   \n",
       "318057                      0.000                 NaN                 NaN   \n",
       "\n",
       "        ...  populacao_15_mais  populacao_15_17  populacao_15_24  \\\n",
       "50276   ...             2304.0            236.0            686.0   \n",
       "50277   ...             6834.0            807.0           2009.0   \n",
       "50278   ...             3972.0            475.0           1183.0   \n",
       "50279   ...             1596.0            153.0            424.0   \n",
       "50280   ...             1113.0            137.0            390.0   \n",
       "...     ...                ...              ...              ...   \n",
       "318053  ...                5.0              0.0              0.0   \n",
       "318054  ...               39.0              0.0              0.0   \n",
       "318055  ...               39.0              0.0              0.0   \n",
       "318056  ...               12.0              0.0              0.0   \n",
       "318057  ...                5.0              0.0              0.0   \n",
       "\n",
       "        populacao_16_18  populacao_18_mais  populacao_18_20 populacao_18_24  \\\n",
       "50276             255.0             2068.0            252.0           450.0   \n",
       "50277             786.0             6027.0            613.0          1202.0   \n",
       "50278             522.0             3498.0            331.0           708.0   \n",
       "50279             157.0             1443.0            120.0           271.0   \n",
       "50280             122.0              976.0            109.0           252.0   \n",
       "...                 ...                ...              ...             ...   \n",
       "318053              0.0                5.0              0.0             0.0   \n",
       "318054              0.0               39.0              0.0             0.0   \n",
       "318055              0.0               39.0              0.0             0.0   \n",
       "318056              0.0               12.0              0.0             0.0   \n",
       "318057              0.0                5.0              0.0             0.0   \n",
       "\n",
       "        populacao_19_21  populacao_25_mais  populacao_65_mais  \n",
       "50276             217.0             1618.0              342.0  \n",
       "50277             570.0             4825.0              897.0  \n",
       "50278             322.0             2790.0              565.0  \n",
       "50279             126.0             1172.0              252.0  \n",
       "50280             126.0              724.0              138.0  \n",
       "...                 ...                ...                ...  \n",
       "318053              0.0                5.0                0.0  \n",
       "318054              0.0               39.0                0.0  \n",
       "318055              0.0               39.0                0.0  \n",
       "318056              0.0               12.0                0.0  \n",
       "318057              0.0                5.0                0.0  \n",
       "\n",
       "[12014 rows x 90 columns]>"
      ]
     },
     "execution_count": 17,
     "metadata": {},
     "output_type": "execute_result"
    }
   ],
   "source": [
    "dados_pb.info"
   ]
  },
  {
   "cell_type": "code",
   "execution_count": 81,
   "metadata": {},
   "outputs": [
    {
     "data": {
      "text/plain": [
       "ano                     0\n",
       "sigla_uf                0\n",
       "id_municipio            0\n",
       "raca_cor                0\n",
       "sexo                    0\n",
       "                     ... \n",
       "populacao_18_20      1737\n",
       "populacao_18_24      1737\n",
       "populacao_19_21      1737\n",
       "populacao_25_mais    1737\n",
       "populacao_65_mais    1737\n",
       "Length: 90, dtype: int64"
      ]
     },
     "execution_count": 81,
     "metadata": {},
     "output_type": "execute_result"
    }
   ],
   "source": [
    "#soma dos dados nulos por coluna\n",
    "dados_pb.isnull().sum()"
   ]
  },
  {
   "cell_type": "code",
   "execution_count": 79,
   "metadata": {},
   "outputs": [
    {
     "data": {
      "text/plain": [
       "50276     2000\n",
       "50277     2000\n",
       "50278     2000\n",
       "50279     2000\n",
       "50280     2000\n",
       "          ... \n",
       "318053    2000\n",
       "318054    2000\n",
       "318055    2000\n",
       "318056    2000\n",
       "318057    2000\n",
       "Name: ano, Length: 9629, dtype: int64"
      ]
     },
     "execution_count": 79,
     "metadata": {},
     "output_type": "execute_result"
    }
   ],
   "source": [
    "dados_pb[dados_pb.isnull().T.any()].ano"
   ]
  },
  {
   "cell_type": "code",
   "execution_count": 60,
   "metadata": {},
   "outputs": [
    {
     "data": {
      "text/plain": [
       "(12014, 90)"
      ]
     },
     "execution_count": 60,
     "metadata": {},
     "output_type": "execute_result"
    }
   ],
   "source": [
    "# linhas e colunas\n",
    "dados_pb.shape"
   ]
  },
  {
   "cell_type": "code",
   "execution_count": 61,
   "metadata": {},
   "outputs": [],
   "source": [
    "dados_pb_notNull = dados_pb.dropna()"
   ]
  },
  {
   "cell_type": "code",
   "execution_count": 62,
   "metadata": {},
   "outputs": [
    {
     "data": {
      "text/plain": [
       "ano                  0\n",
       "sigla_uf             0\n",
       "id_municipio         0\n",
       "raca_cor             0\n",
       "sexo                 0\n",
       "                    ..\n",
       "populacao_18_20      0\n",
       "populacao_18_24      0\n",
       "populacao_19_21      0\n",
       "populacao_25_mais    0\n",
       "populacao_65_mais    0\n",
       "Length: 90, dtype: int64"
      ]
     },
     "execution_count": 62,
     "metadata": {},
     "output_type": "execute_result"
    }
   ],
   "source": [
    "dados_pb_notNull.isnull().sum()"
   ]
  },
  {
   "cell_type": "code",
   "execution_count": 130,
   "metadata": {},
   "outputs": [
    {
     "data": {
      "text/plain": [
       "51917     2000\n",
       "129339    2010\n",
       "54311     2000\n",
       "289089    2010\n",
       "52122     2000\n",
       "131305    2010\n",
       "288998    2010\n",
       "53705     2000\n",
       "54970     2000\n",
       "129267    2010\n",
       "129442    2010\n",
       "130228    2010\n",
       "130838    2010\n",
       "131476    2010\n",
       "129288    2010\n",
       "50389     2000\n",
       "129143    2010\n",
       "128440    2010\n",
       "129211    2010\n",
       "51965     2000\n",
       "Name: ano, dtype: int64"
      ]
     },
     "execution_count": 130,
     "metadata": {},
     "output_type": "execute_result"
    }
   ],
   "source": [
    "dados_pb.ano.sample(20)"
   ]
  },
  {
   "cell_type": "code",
   "execution_count": 64,
   "metadata": {},
   "outputs": [
    {
     "data": {
      "text/plain": [
       "Index(['ano', 'sigla_uf', 'id_municipio', 'raca_cor', 'sexo', 'localizacao',\n",
       "       'ivs', 'ivs_infraestrutura_urbana', 'ivs_capital_humano',\n",
       "       'ivs_renda_trabalho', 'idhm', 'idhm_l', 'idhm_e', 'idhm_r',\n",
       "       'idhm_subescolaridade', 'idhm_subfrequencia', 'prosperidade_social',\n",
       "       'proporcao_vulnerabilidade_socioeconomica', 'propocao_energia_eletrica',\n",
       "       'proporcao_domicilio_densidade', 'proporcao_sem_agua_esgoto',\n",
       "       'proporcao_sem_coleta', 'renda_per_capita', 'renda_media_18_mais',\n",
       "       'proporcao_sem_renda_18_mais', 'renda_trabalho',\n",
       "       'renda_per_capita_vulneravel', 'proporcao_vulneravel',\n",
       "       'populacao_vulneravel_15_24', 'proporcao_vulneravel_dependente_idoso',\n",
       "       'populacao_vulneravel_e_idoso', 'razao_dependencia',\n",
       "       'fecundidade_total', 'taxa_envelhecimento', 'mortalidade_1_menos',\n",
       "       'proporcao_mortalidade_5_menos', 'proporcao_crianca_fora_escola_0_5',\n",
       "       'proporcao_escola_5_6', 'proporcao_crianca_fora_escola_6_14',\n",
       "       'proporcao_maternidade_10_17', 'maternidade_crianca_15_menos',\n",
       "       'proporcao_maternidade_fundamental_incompleto_crianca_15_menos',\n",
       "       'proporcao_analfabetismo_15_mais', 'proporcao_analfabetismo_18_mais',\n",
       "       'proporcao_analfabetismo_25_mais',\n",
       "       'proporcao_responsavel_fundamental_incompleto',\n",
       "       'proporcao_anos_finais_11_13', 'proporcao_fundamental_completo_15_17',\n",
       "       'proporcao_fundamental_completo_18_mais',\n",
       "       'proporcao_medio_completo_18_20', 'populacao_ocupada_trabalho',\n",
       "       'proporcao_ocupado_fundamental_18_mais',\n",
       "       'proporcao_ocupado_medio_18_mais', 'proporcao_ocupado_superior_18_mais',\n",
       "       'proporcao_desocupado_15_24', 'proporcao_desocupado_18_mais',\n",
       "       'proporcao_ocupados_informal_18_mais', 'proporcao_carteira_18_mais',\n",
       "       'proporcao_sem_carteira_18_mais', 'proporcao_setor_publico_18_mais',\n",
       "       'proporcao_empreendedor_18_mais', 'proporcao_empregador_18_mais',\n",
       "       'proporcao_mercado_formal_18_mais', 'proporcao_atividade_10_14',\n",
       "       'pea_10_mais', 'pea_10_14', 'pea_15_17', 'pea_18_mais',\n",
       "       'expectativa_vida', 'indice_gini', 'populacao_0_1', 'populacao_1_3',\n",
       "       'populacao_4', 'populacao_5', 'populacao_6', 'populacao_6_10',\n",
       "       'populacao_6_17', 'populacao_11_13', 'populacao_11_14',\n",
       "       'populacao_12_14', 'populacao_15_mais', 'populacao_15_17',\n",
       "       'populacao_15_24', 'populacao_16_18', 'populacao_18_mais',\n",
       "       'populacao_18_20', 'populacao_18_24', 'populacao_19_21',\n",
       "       'populacao_25_mais', 'populacao_65_mais'],\n",
       "      dtype='object')"
      ]
     },
     "execution_count": 64,
     "metadata": {},
     "output_type": "execute_result"
    }
   ],
   "source": [
    "dados_pb_notNull.columns"
   ]
  }
 ],
 "metadata": {
  "kernelspec": {
   "display_name": "Python 3 (ipykernel)",
   "language": "python",
   "name": "python3"
  },
  "language_info": {
   "codemirror_mode": {
    "name": "ipython",
    "version": 3
   },
   "file_extension": ".py",
   "mimetype": "text/x-python",
   "name": "python",
   "nbconvert_exporter": "python",
   "pygments_lexer": "ipython3",
   "version": "3.10.9"
  }
 },
 "nbformat": 4,
 "nbformat_minor": 4
}
