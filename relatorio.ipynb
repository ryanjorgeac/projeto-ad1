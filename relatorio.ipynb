{
 "cells": [
  {
   "cell_type": "markdown",
   "metadata": {},
   "source": [
    "### Projeto de Análise de Dados I\n",
    "#### Atlas de Vulnerabilidade Social (AVS)\n",
    "> \"A plataforma oferece um panorama da vulnerabilidade e da exclusão social dos municípios e estados. Sua relevância vem justamente da capacidade de fornecer informações sobre a unidade político-administrativa mais próxima do cotidiano dos cidadãos, o município. Além disso, o AVS permite conhecer as desigualdades a nível intramunicipal das diversas espacialidades de uma mesma região metropolitana\"\n",
    "\n",
    "Os dados utilizados nesse estudo podem ser encontrados no link [Atlas de Vulnerabilidade Social](https://basedosdados.org/dataset/1dd6317a-8e79-4a67-bb78-bc5fef214b4d?table=8dce525d-07f9-4d52-8ea0-36fa288d7df8)"
   ]
  },
  {
   "cell_type": "code",
   "execution_count": 3,
   "metadata": {},
   "outputs": [
    {
     "ename": "ModuleNotFoundError",
     "evalue": "No module named 'basedosdados'",
     "output_type": "error",
     "traceback": [
      "\u001b[1;31m---------------------------------------------------------------------------\u001b[0m",
      "\u001b[1;31mModuleNotFoundError\u001b[0m                       Traceback (most recent call last)",
      "\u001b[1;32mc:\\Users\\ryan.abreu\\Documents\\ad1\\projeto-ad1\\relatorio.ipynb Cell 2\u001b[0m line \u001b[0;36m1\n\u001b[1;32m----> <a href='vscode-notebook-cell:/c%3A/Users/ryan.abreu/Documents/ad1/projeto-ad1/relatorio.ipynb#W0sZmlsZQ%3D%3D?line=0'>1</a>\u001b[0m \u001b[39mimport\u001b[39;00m \u001b[39mbasedosdados\u001b[39;00m \u001b[39mas\u001b[39;00m \u001b[39mbd\u001b[39;00m\n\u001b[0;32m      <a href='vscode-notebook-cell:/c%3A/Users/ryan.abreu/Documents/ad1/projeto-ad1/relatorio.ipynb#W0sZmlsZQ%3D%3D?line=3'>4</a>\u001b[0m df \u001b[39m=\u001b[39m bd\u001b[39m.\u001b[39mread_table(dataset_id\u001b[39m=\u001b[39m\u001b[39m'\u001b[39m\u001b[39mbr_ipea_avs\u001b[39m\u001b[39m'\u001b[39m, table_id\u001b[39m=\u001b[39m\u001b[39m'\u001b[39m\u001b[39mmunicipio\u001b[39m\u001b[39m'\u001b[39m, billing_project_id\u001b[39m=\u001b[39m\u001b[39m\"\u001b[39m\u001b[39mAD1-Project-id\u001b[39m\u001b[39m\"\u001b[39m)\n\u001b[0;32m      <a href='vscode-notebook-cell:/c%3A/Users/ryan.abreu/Documents/ad1/projeto-ad1/relatorio.ipynb#W0sZmlsZQ%3D%3D?line=4'>5</a>\u001b[0m df\n",
      "\u001b[1;31mModuleNotFoundError\u001b[0m: No module named 'basedosdados'"
     ]
    }
   ],
   "source": [
    "import basedosdados as bd\n",
    "\n",
    "\n",
    "df = bd.read_table(dataset_id='br_ipea_avs', table_id='municipio', billing_project_id=\"AD1-Project-id\")\n",
    "df"
   ]
  }
 ],
 "metadata": {
  "kernelspec": {
   "display_name": "Python 3",
   "language": "python",
   "name": "python3"
  },
  "language_info": {
   "codemirror_mode": {
    "name": "ipython",
    "version": 3
   },
   "file_extension": ".py",
   "mimetype": "text/x-python",
   "name": "python",
   "nbconvert_exporter": "python",
   "pygments_lexer": "ipython3",
   "version": "3.12.0"
  }
 },
 "nbformat": 4,
 "nbformat_minor": 2
}
